{
 "cells": [
  {
   "cell_type": "code",
   "execution_count": 1,
   "id": "2019d15f",
   "metadata": {},
   "outputs": [],
   "source": [
    "import numpy"
   ]
  },
  {
   "cell_type": "code",
   "execution_count": 2,
   "id": "959688de",
   "metadata": {},
   "outputs": [
    {
     "data": {
      "text/plain": [
       "array([ 0,  1,  2,  3,  4,  5,  6,  7,  8,  9, 10, 11, 12, 13, 14, 15, 16,\n",
       "       17, 18, 19, 20, 21, 22, 23, 24, 25, 26])"
      ]
     },
     "execution_count": 2,
     "metadata": {},
     "output_type": "execute_result"
    }
   ],
   "source": [
    "n = numpy.arange(27)\n",
    "n"
   ]
  },
  {
   "cell_type": "code",
   "execution_count": 4,
   "id": "047f9ce8",
   "metadata": {},
   "outputs": [
    {
     "data": {
      "text/plain": [
       "array([[ 0,  1,  2,  3,  4,  5,  6,  7,  8],\n",
       "       [ 9, 10, 11, 12, 13, 14, 15, 16, 17],\n",
       "       [18, 19, 20, 21, 22, 23, 24, 25, 26]])"
      ]
     },
     "execution_count": 4,
     "metadata": {},
     "output_type": "execute_result"
    }
   ],
   "source": [
    "n.reshape(3, 9)"
   ]
  },
  {
   "cell_type": "code",
   "execution_count": 5,
   "id": "f1e4d9ff",
   "metadata": {},
   "outputs": [],
   "source": [
    "n2 = numpy.asarray([1, 2, 3])"
   ]
  },
  {
   "cell_type": "code",
   "execution_count": 6,
   "id": "b07b05b0",
   "metadata": {},
   "outputs": [
    {
     "data": {
      "text/plain": [
       "array([1, 2, 3])"
      ]
     },
     "execution_count": 6,
     "metadata": {},
     "output_type": "execute_result"
    }
   ],
   "source": [
    "n2"
   ]
  },
  {
   "cell_type": "code",
   "execution_count": 7,
   "id": "7aa19ac0",
   "metadata": {},
   "outputs": [
    {
     "data": {
      "text/plain": [
       "array([[187, 158, 104, 121, 143],\n",
       "       [198, 125, 255, 255, 147],\n",
       "       [209, 134, 255,  97, 182]], dtype=uint8)"
      ]
     },
     "execution_count": 7,
     "metadata": {},
     "output_type": "execute_result"
    }
   ],
   "source": [
    "import cv2\n",
    "img_gray = cv2.imread(\"smallgray.png\", 0)\n",
    "img_gray"
   ]
  },
  {
   "cell_type": "code",
   "execution_count": 8,
   "id": "66511ca2",
   "metadata": {},
   "outputs": [
    {
     "data": {
      "text/plain": [
       "True"
      ]
     },
     "execution_count": 8,
     "metadata": {},
     "output_type": "execute_result"
    }
   ],
   "source": [
    "cv2.imwrite(\"newsmallgray.png\", img_gray)"
   ]
  },
  {
   "cell_type": "code",
   "execution_count": 9,
   "id": "2d51bf2d",
   "metadata": {},
   "outputs": [
    {
     "data": {
      "text/plain": [
       "array([[187, 158, 104, 121, 143],\n",
       "       [198, 125, 255, 255, 147],\n",
       "       [209, 134, 255,  97, 182]], dtype=uint8)"
      ]
     },
     "execution_count": 9,
     "metadata": {},
     "output_type": "execute_result"
    }
   ],
   "source": [
    "img_gray"
   ]
  },
  {
   "cell_type": "code",
   "execution_count": 10,
   "id": "05bf9351",
   "metadata": {},
   "outputs": [
    {
     "name": "stdout",
     "output_type": "stream",
     "text": [
      "[187 158 104 121 143]\n",
      "[198 125 255 255 147]\n",
      "[209 134 255  97 182]\n"
     ]
    }
   ],
   "source": [
    "for i in img_gray:\n",
    "    print(i)"
   ]
  },
  {
   "cell_type": "code",
   "execution_count": 11,
   "id": "70e6d951",
   "metadata": {},
   "outputs": [
    {
     "name": "stdout",
     "output_type": "stream",
     "text": [
      "[187 198 209]\n",
      "[158 125 134]\n",
      "[104 255 255]\n",
      "[121 255  97]\n",
      "[143 147 182]\n"
     ]
    }
   ],
   "source": [
    "for i in img_gray.T:\n",
    "    print(i)"
   ]
  },
  {
   "cell_type": "code",
   "execution_count": 13,
   "id": "b6a7b74a",
   "metadata": {},
   "outputs": [
    {
     "name": "stdout",
     "output_type": "stream",
     "text": [
      "187 158 104 121 143 198 125 255 255 147 209 134 255 97 182 "
     ]
    }
   ],
   "source": [
    "for i in img_gray.flat:\n",
    "    print(i, end=\" \")"
   ]
  },
  {
   "cell_type": "code",
   "execution_count": 14,
   "id": "c0946850",
   "metadata": {},
   "outputs": [
    {
     "data": {
      "text/plain": [
       "array([[187, 158, 104, 121, 143],\n",
       "       [198, 125, 255, 255, 147],\n",
       "       [209, 134, 255,  97, 182]], dtype=uint8)"
      ]
     },
     "execution_count": 14,
     "metadata": {},
     "output_type": "execute_result"
    }
   ],
   "source": [
    "img_gray"
   ]
  },
  {
   "cell_type": "code",
   "execution_count": 15,
   "id": "39372c18",
   "metadata": {},
   "outputs": [],
   "source": [
    "img2 = numpy.hstack((img_gray, img_gray))"
   ]
  },
  {
   "cell_type": "code",
   "execution_count": 16,
   "id": "b1cb5b82",
   "metadata": {},
   "outputs": [
    {
     "data": {
      "text/plain": [
       "array([[187, 158, 104, 121, 143, 187, 158, 104, 121, 143],\n",
       "       [198, 125, 255, 255, 147, 198, 125, 255, 255, 147],\n",
       "       [209, 134, 255,  97, 182, 209, 134, 255,  97, 182]], dtype=uint8)"
      ]
     },
     "execution_count": 16,
     "metadata": {},
     "output_type": "execute_result"
    }
   ],
   "source": [
    "img2"
   ]
  },
  {
   "cell_type": "code",
   "execution_count": 18,
   "id": "1e304713",
   "metadata": {},
   "outputs": [
    {
     "data": {
      "text/plain": [
       "[array([[187, 158, 104, 121, 143],\n",
       "        [198, 125, 255, 255, 147],\n",
       "        [209, 134, 255,  97, 182]], dtype=uint8),\n",
       " array([[187, 158, 104, 121, 143],\n",
       "        [198, 125, 255, 255, 147],\n",
       "        [209, 134, 255,  97, 182]], dtype=uint8)]"
      ]
     },
     "execution_count": 18,
     "metadata": {},
     "output_type": "execute_result"
    }
   ],
   "source": [
    "lyst = numpy.hsplit(img2, 2)\n",
    "lyst"
   ]
  },
  {
   "cell_type": "code",
   "execution_count": null,
   "id": "d134c2cd",
   "metadata": {},
   "outputs": [],
   "source": []
  }
 ],
 "metadata": {
  "kernelspec": {
   "display_name": "Python 3",
   "language": "python",
   "name": "python3"
  },
  "language_info": {
   "codemirror_mode": {
    "name": "ipython",
    "version": 3
   },
   "file_extension": ".py",
   "mimetype": "text/x-python",
   "name": "python",
   "nbconvert_exporter": "python",
   "pygments_lexer": "ipython3",
   "version": "3.8.5"
  }
 },
 "nbformat": 4,
 "nbformat_minor": 5
}
